{
  "nbformat": 4,
  "nbformat_minor": 0,
  "metadata": {
    "colab": {
      "name": "DSA-Python-Cap02-05-Dicionário .ipynb",
      "provenance": [],
      "private_outputs": true,
      "authorship_tag": "ABX9TyOXMgJfgecSMP43sWTTLkWO",
      "include_colab_link": true
    },
    "kernelspec": {
      "name": "python3",
      "display_name": "Python 3"
    }
  },
  "cells": [
    {
      "cell_type": "markdown",
      "metadata": {
        "id": "view-in-github",
        "colab_type": "text"
      },
      "source": [
        "<a href=\"https://colab.research.google.com/github/ALXAVIER-DEV/PythonFundamentos/blob/master/DSA_Python_Cap02_05_Dicion%C3%A1rio_.ipynb\" target=\"_parent\"><img src=\"https://colab.research.google.com/assets/colab-badge.svg\" alt=\"Open In Colab\"/></a>"
      ]
    },
    {
      "cell_type": "markdown",
      "metadata": {
        "id": "nrlDNk6lzFkf",
        "colab_type": "text"
      },
      "source": [
        "##Dicionário de Dados"
      ]
    },
    {
      "cell_type": "code",
      "metadata": {
        "id": "rLnKq67ozdcu",
        "colab_type": "code",
        "colab": {}
      },
      "source": [
        "# Isso é uma lista\n",
        "estudantes_list = [\"Matheus\", 24 , \"Fernanda\", 22, \"Tamires\",26, \"Cristiano\",25]"
      ],
      "execution_count": null,
      "outputs": []
    },
    {
      "cell_type": "code",
      "metadata": {
        "id": "mAXfWC-uz5sk",
        "colab_type": "code",
        "colab": {}
      },
      "source": [
        "estudantes_list"
      ],
      "execution_count": null,
      "outputs": []
    },
    {
      "cell_type": "code",
      "metadata": {
        "id": "BXRAJohEz8hQ",
        "colab_type": "code",
        "colab": {}
      },
      "source": [
        "# Isso é um dicionário \n",
        "estudantes_dict = {\"Matheus\": 24, \"Fernanda\": 22, \"Tamires\":26,\"Cristiano\": 25}"
      ],
      "execution_count": null,
      "outputs": []
    },
    {
      "cell_type": "code",
      "metadata": {
        "id": "oqTrcTtP0Xdv",
        "colab_type": "code",
        "colab": {}
      },
      "source": [
        "estudantes_dict"
      ],
      "execution_count": null,
      "outputs": []
    },
    {
      "cell_type": "code",
      "metadata": {
        "id": "J6lEd4ZT0Z8f",
        "colab_type": "code",
        "colab": {}
      },
      "source": [
        "estudantes_dict[\"Matheus\"]"
      ],
      "execution_count": null,
      "outputs": []
    },
    {
      "cell_type": "code",
      "metadata": {
        "id": "wKJ4fpza0iLS",
        "colab_type": "code",
        "colab": {}
      },
      "source": [
        "estudantes_dict[\"Pedro\"] = 23"
      ],
      "execution_count": null,
      "outputs": []
    },
    {
      "cell_type": "code",
      "metadata": {
        "id": "crn0oiB40mA_",
        "colab_type": "code",
        "colab": {}
      },
      "source": [
        "estudantes_dict[\"Pedro\"]"
      ],
      "execution_count": null,
      "outputs": []
    },
    {
      "cell_type": "code",
      "metadata": {
        "id": "-7n2mWS70ydZ",
        "colab_type": "code",
        "colab": {}
      },
      "source": [
        "estudantes_dict[\"Tamires\"]"
      ],
      "execution_count": null,
      "outputs": []
    },
    {
      "cell_type": "code",
      "metadata": {
        "id": "9jxMcfKA0_Pe",
        "colab_type": "code",
        "colab": {}
      },
      "source": [
        "estudantes_dict"
      ],
      "execution_count": null,
      "outputs": []
    },
    {
      "cell_type": "code",
      "metadata": {
        "id": "0SG9gfoa1BOl",
        "colab_type": "code",
        "colab": {}
      },
      "source": [
        "len(estudantes_dict)"
      ],
      "execution_count": null,
      "outputs": []
    },
    {
      "cell_type": "code",
      "metadata": {
        "id": "KjZP1Wuo1XUk",
        "colab_type": "code",
        "colab": {}
      },
      "source": [
        ""
      ],
      "execution_count": null,
      "outputs": []
    }
  ]
}