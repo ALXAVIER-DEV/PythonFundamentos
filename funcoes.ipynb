{
  "nbformat": 4,
  "nbformat_minor": 0,
  "metadata": {
    "colab": {
      "name": "funcoes.ipynb",
      "private_outputs": true,
      "provenance": [],
      "authorship_tag": "ABX9TyNF1AW0R250mucCcnjouOMT",
      "include_colab_link": true
    },
    "kernelspec": {
      "name": "python3",
      "display_name": "Python 3"
    }
  },
  "cells": [
    {
      "cell_type": "markdown",
      "metadata": {
        "id": "view-in-github",
        "colab_type": "text"
      },
      "source": [
        "<a href=\"https://colab.research.google.com/github/ALXAVIER-DEV/PythonFundamentos/blob/master/funcoes.ipynb\" target=\"_parent\"><img src=\"https://colab.research.google.com/assets/colab-badge.svg\" alt=\"Open In Colab\"/></a>"
      ]
    },
    {
      "cell_type": "code",
      "metadata": {
        "id": "rY1rLjr2wKd1"
      },
      "source": [
        "import math"
      ],
      "execution_count": null,
      "outputs": []
    },
    {
      "cell_type": "code",
      "metadata": {
        "id": "u95ajnD_wc2F"
      },
      "source": [
        "def numPrimo(num):\r\n",
        "  \"\"\"\r\n",
        "  verificando se um numero é primo \r\n",
        "  \"\"\"\r\n",
        "\r\n",
        "  if (num % 2 ) == 0 and num > 2:\r\n",
        "    return \"Este número não é primo\"\r\n",
        "  for i in range(3, int(math.sqrt(num)) + 1, 2):\r\n",
        "    if (num % i) == 0:\r\n",
        "      return \"Este número nãe é primo\"\r\n",
        "  return \"Este número é primo\""
      ],
      "execution_count": null,
      "outputs": []
    },
    {
      "cell_type": "code",
      "metadata": {
        "id": "bCcJ5pi1x_u8"
      },
      "source": [
        "numPrimo(13)"
      ],
      "execution_count": null,
      "outputs": []
    },
    {
      "cell_type": "code",
      "metadata": {
        "id": "MB7GPx2tyD0U"
      },
      "source": [
        "numPrimo(14)"
      ],
      "execution_count": null,
      "outputs": []
    },
    {
      "cell_type": "markdown",
      "metadata": {
        "id": "fAWnTE5E0F2l"
      },
      "source": [
        "##Fazendo split de dados"
      ]
    },
    {
      "cell_type": "code",
      "metadata": {
        "id": "pyPHLu9DyJXS"
      },
      "source": [
        "# Fazendo split dos dados\r\n",
        "def split_string(text):\r\n",
        "  return text.split(\" \")"
      ],
      "execution_count": null,
      "outputs": []
    },
    {
      "cell_type": "code",
      "metadata": {
        "id": "6ln5U9Bb0mnF"
      },
      "source": [
        "texto =\"Essa função sera bastante util para separar grandes volumes de dados \" "
      ],
      "execution_count": null,
      "outputs": []
    },
    {
      "cell_type": "code",
      "metadata": {
        "id": "k-XzKNex1TEb"
      },
      "source": [
        "# isso divide a string em uma lista \r\n",
        "print(split_string(texto))"
      ],
      "execution_count": null,
      "outputs": []
    },
    {
      "cell_type": "code",
      "metadata": {
        "id": "yhc3Cnfn1lAu"
      },
      "source": [
        "# Podemos atribuir o output de uma função em uma variável\r\n",
        "token = split_string(texto)"
      ],
      "execution_count": null,
      "outputs": []
    },
    {
      "cell_type": "code",
      "metadata": {
        "id": "cpPPuiKe3st0"
      },
      "source": [
        "token"
      ],
      "execution_count": null,
      "outputs": []
    },
    {
      "cell_type": "code",
      "metadata": {
        "id": "9LikyAMf3t3H"
      },
      "source": [
        "caixa_baixa = \"Este texto Deveria estar em caixa baixa ou LowerCase\"\r\n"
      ],
      "execution_count": null,
      "outputs": []
    },
    {
      "cell_type": "code",
      "metadata": {
        "id": "y1uUxGT74G_G"
      },
      "source": [
        "def lowercase(text):\r\n",
        "  return text.lower()"
      ],
      "execution_count": null,
      "outputs": []
    },
    {
      "cell_type": "code",
      "metadata": {
        "id": "Y0QNGD-T4diw"
      },
      "source": [
        "lowercased_string = lowercase(caixa_baixa)"
      ],
      "execution_count": null,
      "outputs": []
    },
    {
      "cell_type": "code",
      "metadata": {
        "id": "dyA1hnkf4qj2"
      },
      "source": [
        "lowercased_string"
      ],
      "execution_count": null,
      "outputs": []
    },
    {
      "cell_type": "code",
      "metadata": {
        "id": "RjdOEb6r4syi"
      },
      "source": [
        "# Funções com números variáveis de argumentos \r\n",
        "def printVarInfo( argl, *vartuple ):\r\n",
        "  #Imprimir o valor do primeiro argumento\r\n",
        "  print(\"O parâmetro passado foi: \", argl)\r\n",
        "\r\n",
        "  #Imprime o valor do segundo argumento\r\n",
        "  for item in vartuple:\r\n",
        "    print(\"O parâmetro passado foi: \", item)\r\n",
        "    return;"
      ],
      "execution_count": null,
      "outputs": []
    },
    {
      "cell_type": "code",
      "metadata": {
        "id": "tnZf83PG50JN"
      },
      "source": [
        "# Fazendo chamada da função com apenas um parâmetro\r\n",
        "\r\n",
        "printVarInfo(10)"
      ],
      "execution_count": null,
      "outputs": []
    },
    {
      "cell_type": "code",
      "metadata": {
        "id": "nAocQI1Z6hPe"
      },
      "source": [
        "printVarInfo('Chocolate', 'Morango', 'Banana')"
      ],
      "execution_count": null,
      "outputs": []
    },
    {
      "cell_type": "code",
      "metadata": {
        "id": "DC-GIeTd_DWK"
      },
      "source": [
        ""
      ],
      "execution_count": null,
      "outputs": []
    },
    {
      "cell_type": "markdown",
      "metadata": {
        "id": "7Yj6DXei-uVH"
      },
      "source": [
        "##Expressões lambda"
      ]
    },
    {
      "cell_type": "code",
      "metadata": {
        "id": "Oe19dIVp9R8T"
      },
      "source": [
        "# definindo uma função - 3 linhas de código\r\n",
        "def potencia(num):\r\n",
        "  result = num **2\r\n",
        "  return result"
      ],
      "execution_count": null,
      "outputs": []
    },
    {
      "cell_type": "code",
      "metadata": {
        "id": "foHXxJFZ_Qe-"
      },
      "source": [
        "potencia(5)"
      ],
      "execution_count": null,
      "outputs": []
    },
    {
      "cell_type": "code",
      "metadata": {
        "id": "g9fpYMSm_Td6"
      },
      "source": [
        "# Definindo uma função com duas linhas de código\r\n",
        "def potencia (num):\r\n",
        "  return num **2"
      ],
      "execution_count": null,
      "outputs": []
    },
    {
      "cell_type": "code",
      "metadata": {
        "id": "feLgM6YL_qg2"
      },
      "source": [
        "potencia(5)"
      ],
      "execution_count": null,
      "outputs": []
    },
    {
      "cell_type": "code",
      "metadata": {
        "id": "KvQPcTOc_sjF"
      },
      "source": [
        "# Definindo função  apenas uma linha de código\r\n",
        "def potencia(num): return num **2"
      ],
      "execution_count": null,
      "outputs": []
    },
    {
      "cell_type": "code",
      "metadata": {
        "id": "ljTHyOyG__lS"
      },
      "source": [
        "potencia(5)"
      ],
      "execution_count": null,
      "outputs": []
    },
    {
      "cell_type": "code",
      "metadata": {
        "id": "_Rwk8ZIYAGGf"
      },
      "source": [
        "#Definindo uma expressão lambda\r\n",
        "potencia = lambda num: num**2"
      ],
      "execution_count": null,
      "outputs": []
    },
    {
      "cell_type": "code",
      "metadata": {
        "id": "WOhO24UAAqPY"
      },
      "source": [
        "potencia(5)"
      ],
      "execution_count": null,
      "outputs": []
    },
    {
      "cell_type": "code",
      "metadata": {
        "id": "_v8xTvV0AuEk"
      },
      "source": [
        "Par = lambda x: x%2 ==0"
      ],
      "execution_count": null,
      "outputs": []
    },
    {
      "cell_type": "code",
      "metadata": {
        "id": "CqAYDlykA0zf"
      },
      "source": [
        "Par(4)"
      ],
      "execution_count": null,
      "outputs": []
    },
    {
      "cell_type": "code",
      "metadata": {
        "id": "Y7cb3KjqA3VG"
      },
      "source": [
        "first = lambda s: s[0]"
      ],
      "execution_count": null,
      "outputs": []
    },
    {
      "cell_type": "code",
      "metadata": {
        "id": "4LjhbMiDNC_3"
      },
      "source": [
        "first(\"Python\")"
      ],
      "execution_count": null,
      "outputs": []
    },
    {
      "cell_type": "code",
      "metadata": {
        "id": "piw0JS4PNLQT"
      },
      "source": [
        "reverso = lambda s: s[::-1]"
      ],
      "execution_count": null,
      "outputs": []
    },
    {
      "cell_type": "code",
      "metadata": {
        "id": "yvIKXOTeNcPR"
      },
      "source": [
        "reverso(\"Python\")"
      ],
      "execution_count": null,
      "outputs": []
    },
    {
      "cell_type": "code",
      "metadata": {
        "id": "-CqJVMDMNgmg"
      },
      "source": [
        "addNum = lambda x,y : x+y"
      ],
      "execution_count": null,
      "outputs": []
    },
    {
      "cell_type": "code",
      "metadata": {
        "id": "ma5pTftoNq38"
      },
      "source": [
        "addNum(2,3)"
      ],
      "execution_count": null,
      "outputs": []
    },
    {
      "cell_type": "code",
      "metadata": {
        "id": "6Q-YCsaMN7S2"
      },
      "source": [
        ""
      ],
      "execution_count": null,
      "outputs": []
    }
  ]
}