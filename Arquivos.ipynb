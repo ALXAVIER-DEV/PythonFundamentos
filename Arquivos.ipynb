{
  "nbformat": 4,
  "nbformat_minor": 0,
  "metadata": {
    "colab": {
      "name": "Arquivos.ipynb",
      "private_outputs": true,
      "provenance": [],
      "authorship_tag": "ABX9TyODQTJKthkyGjPLIroDKjPQ",
      "include_colab_link": true
    },
    "kernelspec": {
      "name": "python3",
      "display_name": "Python 3"
    }
  },
  "cells": [
    {
      "cell_type": "markdown",
      "metadata": {
        "id": "view-in-github",
        "colab_type": "text"
      },
      "source": [
        "<a href=\"https://colab.research.google.com/github/ALXAVIER-DEV/PythonFundamentos/blob/master/Arquivos.ipynb\" target=\"_parent\"><img src=\"https://colab.research.google.com/assets/colab-badge.svg\" alt=\"Open In Colab\"/></a>"
      ]
    },
    {
      "cell_type": "code",
      "metadata": {
        "id": "McGO_ilCDdcR"
      },
      "source": [
        "# Chamando a versão do Python\r\n",
        "from platform import python_version\r\n",
        "print('Versão da Linguagem Python Usda Neste Jupyter Notebook:' , python_version())"
      ],
      "execution_count": null,
      "outputs": []
    },
    {
      "cell_type": "code",
      "metadata": {
        "id": "nhdshJJDH8rF"
      },
      "source": [
        "#Abrindo arquivo para Leitura \r\n",
        "\r\n",
        "arq1 = open('/content/arquivo1.txt' , \"r\")"
      ],
      "execution_count": null,
      "outputs": []
    },
    {
      "cell_type": "code",
      "metadata": {
        "id": "9_zZQ79pILKt"
      },
      "source": [
        "# Lendo arquivo\r\n",
        "\r\n",
        "print(arq1.read())"
      ],
      "execution_count": null,
      "outputs": []
    },
    {
      "cell_type": "code",
      "metadata": {
        "id": "Yq-jVe2yIiKB"
      },
      "source": [
        "# Contar caracteres do Arquivo\r\n",
        "\r\n",
        "print(arq1.tell())"
      ],
      "execution_count": null,
      "outputs": []
    },
    {
      "cell_type": "code",
      "metadata": {
        "id": "bDN0ZPJ3I_hF"
      },
      "source": [
        "# Retornando para o inicio do arquivo \r\n",
        "\r\n",
        "print(arq1.seek(0,0))"
      ],
      "execution_count": null,
      "outputs": []
    },
    {
      "cell_type": "code",
      "metadata": {
        "id": "vksRWRd0Jt2G"
      },
      "source": [
        "# Lendo os primeiros caracteres\r\n",
        "print(arq1.read(10))"
      ],
      "execution_count": null,
      "outputs": []
    },
    {
      "cell_type": "markdown",
      "metadata": {
        "id": "37ZPr_3cKBHy"
      },
      "source": [
        "##Gravando em Arquivos\r\n"
      ]
    },
    {
      "cell_type": "code",
      "metadata": {
        "id": "YtFDfNyKJ27v"
      },
      "source": [
        "# Open modo gravação \r\n",
        "arq2 = open('/content/arquivo1.txt' , \"w\")"
      ],
      "execution_count": null,
      "outputs": []
    },
    {
      "cell_type": "code",
      "metadata": {
        "id": "QFKrjfMHKZ-Z"
      },
      "source": [
        "# Uma vez aberto apenas para gravação, não se pode ler o arquivo\r\n",
        "print(arq2.read())"
      ],
      "execution_count": null,
      "outputs": []
    },
    {
      "cell_type": "code",
      "metadata": {
        "id": "5T2b9Nz0Kp-y"
      },
      "source": [
        "# Modo de Gravação\r\n",
        "arq2.write(\"Testando o modo de gravação em arquivos no Pyton Alexandre Xavier\")"
      ],
      "execution_count": null,
      "outputs": []
    },
    {
      "cell_type": "code",
      "metadata": {
        "id": "chTCfey5Pp2t"
      },
      "source": [
        "arq2.close()\r\n"
      ],
      "execution_count": null,
      "outputs": []
    },
    {
      "cell_type": "code",
      "metadata": {
        "id": "XzWc7BAnQgTg"
      },
      "source": [
        "# Lendo Arquivo gravado \r\n",
        "\r\n",
        "arq2 = open('/content/arquivo1.txt' , \"r\")"
      ],
      "execution_count": null,
      "outputs": []
    },
    {
      "cell_type": "code",
      "metadata": {
        "id": "fdQbItinQqqn"
      },
      "source": [
        "print(arq2.read())"
      ],
      "execution_count": null,
      "outputs": []
    },
    {
      "cell_type": "code",
      "metadata": {
        "id": "yVAejIUPRPy4"
      },
      "source": [
        "# Acrescentando conteúdo\r\n",
        "arq2 = open('/content/arquivo1.txt' , \"a\")"
      ],
      "execution_count": null,
      "outputs": []
    },
    {
      "cell_type": "code",
      "metadata": {
        "id": "0lsFqE4kTK1M"
      },
      "source": [
        "arq2.write('Appendando ALXAVIER')"
      ],
      "execution_count": null,
      "outputs": []
    },
    {
      "cell_type": "code",
      "metadata": {
        "id": "nXf667onTXnH"
      },
      "source": [
        "arq2.close()\r\n",
        "arq2 = open('/content/arquivo1.txt' , \"r\")"
      ],
      "execution_count": null,
      "outputs": []
    },
    {
      "cell_type": "code",
      "metadata": {
        "id": "DiQZKBMyTkwv"
      },
      "source": [
        "arq2.read()"
      ],
      "execution_count": null,
      "outputs": []
    },
    {
      "cell_type": "code",
      "metadata": {
        "id": "mfqM1Y7DT6wf"
      },
      "source": [
        "# Retornando ao inicio do arquivo posição 0\r\n",
        "arq2.seek(0,0)"
      ],
      "execution_count": null,
      "outputs": []
    },
    {
      "cell_type": "code",
      "metadata": {
        "id": "6iWnc_WnUYjP"
      },
      "source": [
        "arq2.read()"
      ],
      "execution_count": null,
      "outputs": []
    },
    {
      "cell_type": "code",
      "metadata": {
        "id": "drik3t-VUfHj"
      },
      "source": [
        "fileName = input(\"Digite o nome do arquivo: \")"
      ],
      "execution_count": null,
      "outputs": []
    },
    {
      "cell_type": "code",
      "metadata": {
        "id": "KQNOZ0z5Uo2O"
      },
      "source": [
        "fileName = fileName + \".txt\""
      ],
      "execution_count": null,
      "outputs": []
    },
    {
      "cell_type": "code",
      "metadata": {
        "id": "lRKKLlNiUx0r"
      },
      "source": [
        "arq3 = open(fileName, \"w\")"
      ],
      "execution_count": null,
      "outputs": []
    },
    {
      "cell_type": "code",
      "metadata": {
        "id": "FgWV2t44U6uS"
      },
      "source": [
        "arq3.write(\"\\nIncluindo texto no arquivo arq3\")"
      ],
      "execution_count": null,
      "outputs": []
    },
    {
      "cell_type": "code",
      "metadata": {
        "id": "L2ujb4u1VEHS"
      },
      "source": [
        "arq3.close()"
      ],
      "execution_count": null,
      "outputs": []
    },
    {
      "cell_type": "code",
      "metadata": {
        "id": "HIK8HAsQVHTN"
      },
      "source": [
        "arq3 = open(fileName, \"r\")"
      ],
      "execution_count": null,
      "outputs": []
    },
    {
      "cell_type": "code",
      "metadata": {
        "id": "gMrT3-B5VONA"
      },
      "source": [
        "print(arq3.read())"
      ],
      "execution_count": null,
      "outputs": []
    },
    {
      "cell_type": "code",
      "metadata": {
        "id": "wiknduGSVbzj"
      },
      "source": [
        "arq3.close()"
      ],
      "execution_count": null,
      "outputs": []
    },
    {
      "cell_type": "markdown",
      "metadata": {
        "id": "V9yOYoLxWAPy"
      },
      "source": [
        "##Abrindo um Dataset em um linha \r\n",
        "\r\n",
        "> Bloco com recuo\r\n",
        "\r\n"
      ]
    },
    {
      "cell_type": "code",
      "metadata": {
        "id": "5XClxMrVV95r"
      },
      "source": [
        "f = open('/content/salarios.csv' , \"r\")"
      ],
      "execution_count": null,
      "outputs": []
    },
    {
      "cell_type": "code",
      "metadata": {
        "id": "uGuAsvoMWYHh"
      },
      "source": [
        "data = f.read()"
      ],
      "execution_count": null,
      "outputs": []
    },
    {
      "cell_type": "code",
      "metadata": {
        "id": "iJ0MZqfHWc66"
      },
      "source": [
        "rows = data.split('\\n')"
      ],
      "execution_count": null,
      "outputs": []
    },
    {
      "cell_type": "code",
      "metadata": {
        "id": "wcMpH7H8Wiks"
      },
      "source": [
        "print(rows)"
      ],
      "execution_count": null,
      "outputs": []
    },
    {
      "cell_type": "markdown",
      "metadata": {
        "id": "YrKip3xTWtDS"
      },
      "source": [
        "##Dividindo um Dataset em colunas"
      ]
    },
    {
      "cell_type": "code",
      "metadata": {
        "id": "XbKesOD3WkeY"
      },
      "source": [
        ""
      ],
      "execution_count": null,
      "outputs": []
    }
  ]
}