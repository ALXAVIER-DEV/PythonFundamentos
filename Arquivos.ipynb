{
  "nbformat": 4,
  "nbformat_minor": 0,
  "metadata": {
    "colab": {
      "name": "Arquivos.ipynb",
      "private_outputs": true,
      "provenance": [],
      "collapsed_sections": [],
      "authorship_tag": "ABX9TyOFtolSCv70mBURhrUIoRPR",
      "include_colab_link": true
    },
    "kernelspec": {
      "name": "python3",
      "display_name": "Python 3"
    }
  },
  "cells": [
    {
      "cell_type": "markdown",
      "metadata": {
        "id": "view-in-github",
        "colab_type": "text"
      },
      "source": [
        "<a href=\"https://colab.research.google.com/github/ALXAVIER-DEV/PythonFundamentos/blob/master/Arquivos.ipynb\" target=\"_parent\"><img src=\"https://colab.research.google.com/assets/colab-badge.svg\" alt=\"Open In Colab\"/></a>"
      ]
    },
    {
      "cell_type": "code",
      "metadata": {
        "id": "McGO_ilCDdcR"
      },
      "source": [
        "# Chamando a versão do Python\r\n",
        "from platform import python_version\r\n",
        "print('Versão da Linguagem Python Usda Neste Jupyter Notebook:' , python_version())"
      ],
      "execution_count": null,
      "outputs": []
    },
    {
      "cell_type": "code",
      "metadata": {
        "id": "nhdshJJDH8rF"
      },
      "source": [
        "#Abrindo arquivo para Leitura \r\n",
        "\r\n",
        "arq1 = open('/content/arquivo1.txt' , \"r\")"
      ],
      "execution_count": null,
      "outputs": []
    },
    {
      "cell_type": "code",
      "metadata": {
        "id": "9_zZQ79pILKt"
      },
      "source": [
        "# Lendo arquivo\r\n",
        "\r\n",
        "print(arq1.read())"
      ],
      "execution_count": null,
      "outputs": []
    },
    {
      "cell_type": "code",
      "metadata": {
        "id": "Yq-jVe2yIiKB"
      },
      "source": [
        "# Contar caracteres do Arquivo\r\n",
        "\r\n",
        "print(arq1.tell())"
      ],
      "execution_count": null,
      "outputs": []
    },
    {
      "cell_type": "code",
      "metadata": {
        "id": "bDN0ZPJ3I_hF"
      },
      "source": [
        "# Retornando para o inicio do arquivo \r\n",
        "\r\n",
        "print(arq1.seek(0,0))"
      ],
      "execution_count": null,
      "outputs": []
    },
    {
      "cell_type": "code",
      "metadata": {
        "id": "vksRWRd0Jt2G"
      },
      "source": [
        "# Lendo os primeiros caracteres\r\n",
        "print(arq1.read(10))"
      ],
      "execution_count": null,
      "outputs": []
    },
    {
      "cell_type": "markdown",
      "metadata": {
        "id": "37ZPr_3cKBHy"
      },
      "source": [
        "##Gravando em Arquivos\r\n"
      ]
    },
    {
      "cell_type": "code",
      "metadata": {
        "id": "YtFDfNyKJ27v"
      },
      "source": [
        "# Open modo gravação \r\n",
        "arq2 = open('/content/arquivo1.txt' , \"w\")"
      ],
      "execution_count": null,
      "outputs": []
    },
    {
      "cell_type": "code",
      "metadata": {
        "id": "QFKrjfMHKZ-Z"
      },
      "source": [
        "# Uma vez aberto apenas para gravação, não se pode ler o arquivo\r\n",
        "print(arq2.read())"
      ],
      "execution_count": null,
      "outputs": []
    },
    {
      "cell_type": "code",
      "metadata": {
        "id": "5T2b9Nz0Kp-y"
      },
      "source": [
        "# Modo de Gravação\r\n",
        "arq2.write(\"Testando o modo de gravação em arquivos no Pyton Alexandre Xavier\")"
      ],
      "execution_count": null,
      "outputs": []
    },
    {
      "cell_type": "code",
      "metadata": {
        "id": "chTCfey5Pp2t"
      },
      "source": [
        "arq2.close()\r\n"
      ],
      "execution_count": null,
      "outputs": []
    },
    {
      "cell_type": "code",
      "metadata": {
        "id": "XzWc7BAnQgTg"
      },
      "source": [
        "# Lendo Arquivo gravado \r\n",
        "\r\n",
        "arq2 = open('/content/arquivo1.txt' , \"r\")"
      ],
      "execution_count": null,
      "outputs": []
    },
    {
      "cell_type": "code",
      "metadata": {
        "id": "fdQbItinQqqn"
      },
      "source": [
        "print(arq2.read())"
      ],
      "execution_count": null,
      "outputs": []
    },
    {
      "cell_type": "code",
      "metadata": {
        "id": "yVAejIUPRPy4"
      },
      "source": [
        "# Acrescentando conteúdo\r\n",
        "arq2 = open('/content/arquivo1.txt' , \"a\")"
      ],
      "execution_count": null,
      "outputs": []
    },
    {
      "cell_type": "code",
      "metadata": {
        "id": "0lsFqE4kTK1M"
      },
      "source": [
        "arq2.write('Appendando ALXAVIER')"
      ],
      "execution_count": null,
      "outputs": []
    },
    {
      "cell_type": "code",
      "metadata": {
        "id": "nXf667onTXnH"
      },
      "source": [
        "arq2.close()\r\n",
        "arq2 = open('/content/arquivo1.txt' , \"r\")"
      ],
      "execution_count": null,
      "outputs": []
    },
    {
      "cell_type": "code",
      "metadata": {
        "id": "DiQZKBMyTkwv"
      },
      "source": [
        "arq2.read()"
      ],
      "execution_count": null,
      "outputs": []
    },
    {
      "cell_type": "code",
      "metadata": {
        "id": "mfqM1Y7DT6wf"
      },
      "source": [
        "# Retornando ao inicio do arquivo posição 0\r\n",
        "arq2.seek(0,0)"
      ],
      "execution_count": null,
      "outputs": []
    },
    {
      "cell_type": "code",
      "metadata": {
        "id": "6iWnc_WnUYjP"
      },
      "source": [
        "arq2.read()"
      ],
      "execution_count": null,
      "outputs": []
    },
    {
      "cell_type": "code",
      "metadata": {
        "id": "drik3t-VUfHj"
      },
      "source": [
        "fileName = input(\"Digite o nome do arquivo: \")"
      ],
      "execution_count": null,
      "outputs": []
    },
    {
      "cell_type": "code",
      "metadata": {
        "id": "KQNOZ0z5Uo2O"
      },
      "source": [
        "fileName = fileName + \".txt\""
      ],
      "execution_count": null,
      "outputs": []
    },
    {
      "cell_type": "code",
      "metadata": {
        "id": "lRKKLlNiUx0r"
      },
      "source": [
        "arq3 = open(fileName, \"w\")"
      ],
      "execution_count": null,
      "outputs": []
    },
    {
      "cell_type": "code",
      "metadata": {
        "id": "FgWV2t44U6uS"
      },
      "source": [
        "arq3.write(\"\\nIncluindo texto no arquivo arq3\")"
      ],
      "execution_count": null,
      "outputs": []
    },
    {
      "cell_type": "code",
      "metadata": {
        "id": "L2ujb4u1VEHS"
      },
      "source": [
        "arq3.close()"
      ],
      "execution_count": null,
      "outputs": []
    },
    {
      "cell_type": "code",
      "metadata": {
        "id": "HIK8HAsQVHTN"
      },
      "source": [
        "arq3 = open(fileName, \"r\")"
      ],
      "execution_count": null,
      "outputs": []
    },
    {
      "cell_type": "code",
      "metadata": {
        "id": "gMrT3-B5VONA"
      },
      "source": [
        "print(arq3.read())"
      ],
      "execution_count": null,
      "outputs": []
    },
    {
      "cell_type": "code",
      "metadata": {
        "id": "wiknduGSVbzj"
      },
      "source": [
        "arq3.close()"
      ],
      "execution_count": null,
      "outputs": []
    },
    {
      "cell_type": "markdown",
      "metadata": {
        "id": "V9yOYoLxWAPy"
      },
      "source": [
        "##Abrindo um Dataset em um linha \r\n",
        "\r\n",
        "> Bloco com recuo\r\n",
        "\r\n"
      ]
    },
    {
      "cell_type": "code",
      "metadata": {
        "id": "5XClxMrVV95r"
      },
      "source": [
        "f = open('/content/salarios.csv' , \"r\")"
      ],
      "execution_count": null,
      "outputs": []
    },
    {
      "cell_type": "code",
      "metadata": {
        "id": "uGuAsvoMWYHh"
      },
      "source": [
        "data = f.read()"
      ],
      "execution_count": null,
      "outputs": []
    },
    {
      "cell_type": "code",
      "metadata": {
        "id": "iJ0MZqfHWc66"
      },
      "source": [
        "rows = data.split('\\n')"
      ],
      "execution_count": null,
      "outputs": []
    },
    {
      "cell_type": "code",
      "metadata": {
        "id": "wcMpH7H8Wiks"
      },
      "source": [
        "print(rows)"
      ],
      "execution_count": null,
      "outputs": []
    },
    {
      "cell_type": "markdown",
      "metadata": {
        "id": "YrKip3xTWtDS"
      },
      "source": [
        "##Dividindo um Dataset em colunas"
      ]
    },
    {
      "cell_type": "code",
      "metadata": {
        "id": "XbKesOD3WkeY"
      },
      "source": [
        "full_data = []"
      ],
      "execution_count": null,
      "outputs": []
    },
    {
      "cell_type": "code",
      "metadata": {
        "id": "0IsOT8h9X7wa"
      },
      "source": [
        "for row in rows:\r\n",
        "  split_row = row.split(\",\")\r\n",
        "  full_data.append(split_row)"
      ],
      "execution_count": null,
      "outputs": []
    },
    {
      "cell_type": "code",
      "metadata": {
        "id": "-DJFDL-uYo-B"
      },
      "source": [
        "count = 0\r\n",
        "for row in full_data:\r\n",
        "  count += 1 # Equivalente a: count = count+ 1\r\n",
        "  print(count)"
      ],
      "execution_count": null,
      "outputs": []
    },
    {
      "cell_type": "code",
      "metadata": {
        "id": "f4jNVMRNYMRj"
      },
      "source": [
        "print(full_data)"
      ],
      "execution_count": null,
      "outputs": []
    },
    {
      "cell_type": "markdown",
      "metadata": {
        "id": "-HWGjTgFYZLr"
      },
      "source": [
        "##Contando as linhas de um arquivo"
      ]
    },
    {
      "cell_type": "code",
      "metadata": {
        "id": "qddAWjkAYN5h"
      },
      "source": [
        "f = open('/content/salarios.csv', \"r\")\r\n",
        "data = f.read()\r\n",
        "rows = data.split(\"\\n\")\r\n",
        "full_data = []"
      ],
      "execution_count": null,
      "outputs": []
    },
    {
      "cell_type": "code",
      "metadata": {
        "id": "G6w3UFC7ZfzT"
      },
      "source": [
        "for row in rows:\r\n",
        "  split_row = row.split(\",\")\r\n",
        "  full_data.append(split_row)\r\n",
        "  first_row = full_data[0]\r\n",
        "\r\n",
        "count = 0"
      ],
      "execution_count": null,
      "outputs": []
    },
    {
      "cell_type": "code",
      "metadata": {
        "id": "_nba92fgZ-Dp"
      },
      "source": [
        "for column in first_row:\r\n",
        "  count = count +1\r\n",
        "\r\n",
        "#outra solucão possivel \r\n",
        "# for column in full_data[0]:\r\n",
        "# count = count +1"
      ],
      "execution_count": null,
      "outputs": []
    },
    {
      "cell_type": "code",
      "metadata": {
        "id": "SxNJYclBaZ4s"
      },
      "source": [
        "print(count)"
      ],
      "execution_count": null,
      "outputs": []
    },
    {
      "cell_type": "code",
      "metadata": {
        "id": "EcRxUPEhacP_"
      },
      "source": [
        "%%writefile /content/teste2.txt\r\n",
        "Ola este arquivo foi gerado pelo próprio Colab.\r\n",
        "Pode-se escrever o quanto quiser pois o colab gera o arquivo final."
      ],
      "execution_count": null,
      "outputs": []
    },
    {
      "cell_type": "code",
      "metadata": {
        "id": "m2pZNxFVjL8v"
      },
      "source": [
        "arq4 = open('/content/teste2.txt' , \"r\")"
      ],
      "execution_count": null,
      "outputs": []
    },
    {
      "cell_type": "code",
      "metadata": {
        "id": "3CDcbKeJjcad"
      },
      "source": [
        "arq4.read()"
      ],
      "execution_count": null,
      "outputs": []
    },
    {
      "cell_type": "code",
      "metadata": {
        "id": "ejlFyuowjjlo"
      },
      "source": [
        "# Estamos no final do aquivo e não há mais nada para ler\r\n",
        "\r\n",
        "arq4.read()"
      ],
      "execution_count": null,
      "outputs": []
    },
    {
      "cell_type": "code",
      "metadata": {
        "id": "btTmYh3tj3-3"
      },
      "source": [
        "arq4.seek(0)"
      ],
      "execution_count": null,
      "outputs": []
    },
    {
      "cell_type": "code",
      "metadata": {
        "id": "IVLOe3EWj-OX"
      },
      "source": [
        "arq4.readlines()"
      ],
      "execution_count": null,
      "outputs": []
    },
    {
      "cell_type": "code",
      "metadata": {
        "id": "jt8TzGwokJkg"
      },
      "source": [
        "# Pode-se usar um loop fro para ler pelo proprio colab\r\n",
        "for line in open('/content/teste2.txt'):\r\n",
        "  print(line)"
      ],
      "execution_count": null,
      "outputs": []
    },
    {
      "cell_type": "code",
      "metadata": {
        "id": "dRj8dAyBmTXC"
      },
      "source": [
        ""
      ],
      "execution_count": null,
      "outputs": []
    },
    {
      "cell_type": "markdown",
      "metadata": {
        "id": "Qm_KtRlBlus3"
      },
      "source": [
        "##Importando um Dataset com Pandas"
      ]
    },
    {
      "cell_type": "code",
      "metadata": {
        "id": "uSic3NZAlKln"
      },
      "source": [
        "import pandas as pd"
      ],
      "execution_count": null,
      "outputs": []
    },
    {
      "cell_type": "code",
      "metadata": {
        "id": "-Eb3LTinl3YC"
      },
      "source": [
        "pd.__version__"
      ],
      "execution_count": null,
      "outputs": []
    },
    {
      "cell_type": "code",
      "metadata": {
        "id": "hf2l6MCVl9RP"
      },
      "source": [
        "filename = '/content/binary.csv'"
      ],
      "execution_count": null,
      "outputs": []
    },
    {
      "cell_type": "code",
      "metadata": {
        "id": "N-tH5mZ5mL23"
      },
      "source": [
        "df = pd.read_csv(filename)"
      ],
      "execution_count": null,
      "outputs": []
    },
    {
      "cell_type": "code",
      "metadata": {
        "id": "Dn8ZolBzmQnv"
      },
      "source": [
        "df.head()"
      ],
      "execution_count": null,
      "outputs": []
    },
    {
      "cell_type": "code",
      "metadata": {
        "id": "FhBh3ACAmWPd"
      },
      "source": [
        "file2 = \"/content/salarios.csv\""
      ],
      "execution_count": null,
      "outputs": []
    },
    {
      "cell_type": "code",
      "metadata": {
        "id": "V9UY7dRymgsB"
      },
      "source": [
        "df2 = pd.read_csv(file2)"
      ],
      "execution_count": null,
      "outputs": []
    },
    {
      "cell_type": "code",
      "metadata": {
        "id": "sXH_mzzWmnh9"
      },
      "source": [
        "df2.head()"
      ],
      "execution_count": null,
      "outputs": []
    },
    {
      "cell_type": "markdown",
      "metadata": {
        "id": "lRrJhRO2ypjQ"
      },
      "source": [
        "## Manipulando Arquivos txt"
      ]
    },
    {
      "cell_type": "code",
      "metadata": {
        "id": "X2f_I8rQyvBc"
      },
      "source": [
        "texto = \"Cientista de Dados é a profissão que mais tem crescido em todo mundo.\\n\"\r\n",
        "texto = texto + \"Esses profissionais precisam se especializar em Programação, Estatística e Machine Learning.\\n\"\r\n",
        "texto += \"E claro, em Big Data.\""
      ],
      "execution_count": null,
      "outputs": []
    },
    {
      "cell_type": "code",
      "metadata": {
        "id": "_ezDqmoBywJ1"
      },
      "source": [
        "# Importando o módulo\r\n",
        "import os"
      ],
      "execution_count": null,
      "outputs": []
    },
    {
      "cell_type": "code",
      "metadata": {
        "id": "iZuw5-nsy1KP"
      },
      "source": [
        "#Criando arquivo\r\n",
        "arquivo = open(os.path.join('/content/cientista.txt'), 'w')"
      ],
      "execution_count": null,
      "outputs": []
    },
    {
      "cell_type": "code",
      "metadata": {
        "id": "O-6UqXnlzSPg"
      },
      "source": [
        "#Gravando os dados no arquivo\r\n",
        "for palavra in texto.split():\r\n",
        "  arquivo.write(palavra+' ')"
      ],
      "execution_count": null,
      "outputs": []
    },
    {
      "cell_type": "code",
      "metadata": {
        "id": "kz3_ukvuzlqz"
      },
      "source": [
        "# Fechando arquivo\r\n",
        "arquivo.close()"
      ],
      "execution_count": null,
      "outputs": []
    },
    {
      "cell_type": "code",
      "metadata": {
        "id": "ndXXRgGrzuxw"
      },
      "source": [
        "#Lendo arquivo\r\n",
        "arquivo = open('/content/cientista.txt' , 'r')\r\n",
        "conteudo = arquivo.read()\r\n",
        "arquivo.close()\r\n",
        "\r\n",
        "print(conteudo)"
      ],
      "execution_count": null,
      "outputs": []
    },
    {
      "cell_type": "markdown",
      "metadata": {
        "id": "npDBTgQg0UG9"
      },
      "source": [
        "##Usando a expressão with\r\n",
        "O método close() é executado automaticamente"
      ]
    },
    {
      "cell_type": "code",
      "metadata": {
        "id": "ByuWJ7HJ0aMM"
      },
      "source": [
        "with open('/content/cientista.txt') as arquivo:\r\n",
        "  conteudo = arquivo.read()"
      ],
      "execution_count": null,
      "outputs": []
    },
    {
      "cell_type": "code",
      "metadata": {
        "id": "R_2A-XpT028K"
      },
      "source": [
        "print(len(conteudo))"
      ],
      "execution_count": null,
      "outputs": []
    },
    {
      "cell_type": "code",
      "metadata": {
        "id": "eId78oqH1A8r"
      },
      "source": [
        "with open ('/content/cientista.txt' , 'w') as arquivo:\r\n",
        "  arquivo.write(texto[:21])\r\n",
        "  arquivo.write('\\n')\r\n",
        "  arquivo.write(texto[:33])"
      ],
      "execution_count": null,
      "outputs": []
    },
    {
      "cell_type": "code",
      "metadata": {
        "id": "0zDLLLof1luy"
      },
      "source": [
        "#Lendo arquivo\r\n",
        "arquivo = open('/content/cientista.txt' , 'r')\r\n",
        "conteudo = arquivo.read()\r\n",
        "arquivo.close()\r\n",
        "\r\n",
        "print(conteudo)"
      ],
      "execution_count": null,
      "outputs": []
    },
    {
      "cell_type": "markdown",
      "metadata": {
        "id": "DQs4k-bS2L1p"
      },
      "source": [
        "##Manipulando Arquivos CSV(comma-separated values)"
      ]
    },
    {
      "cell_type": "code",
      "metadata": {
        "id": "AJjFnVCg2XdG"
      },
      "source": [
        "#Importando o módulo csv\r\n",
        "\r\n",
        "import csv"
      ],
      "execution_count": null,
      "outputs": []
    },
    {
      "cell_type": "code",
      "metadata": {
        "id": "Y07WkN0O2fjH"
      },
      "source": [
        "with open('/content/numeros.csv','w' ) as arquivo:\r\n",
        "  writer = csv.writer(arquivo) \r\n",
        "  writer.writerow(('primeira','segunda','terceira'))\r\n",
        "  writer.writerow((55,93,76))\r\n",
        "  writer.writerow((62,14,86))"
      ],
      "execution_count": null,
      "outputs": []
    },
    {
      "cell_type": "code",
      "metadata": {
        "id": "eMgztDjX40Jl"
      },
      "source": [
        "#Leitura de arquivo\r\n",
        "with open('/content/numeros.csv' , 'r') as arquivo:\r\n",
        "  leitor = csv.reader(arquivo)\r\n",
        "  for x in leitor:\r\n",
        "    print('Numero de colunas: ' , len(x))\r\n",
        "    print(x)\r\n"
      ],
      "execution_count": null,
      "outputs": []
    },
    {
      "cell_type": "code",
      "metadata": {
        "id": "cTckF1oh6_aJ"
      },
      "source": [
        "#Gerando lista com dados do arquivo csv\r\n",
        "with open('/content/numeros.csv' , 'r') as arquivo:\r\n",
        "  leitor = csv.reader(arquivo)\r\n",
        "  dados = list(leitor)\r\n",
        "\r\n",
        "  print(dados)"
      ],
      "execution_count": null,
      "outputs": []
    },
    {
      "cell_type": "code",
      "metadata": {
        "id": "vL79sqEr7rmG"
      },
      "source": [
        "# Imprimindo a partir da linha\r\n",
        "\r\n",
        "for linha in dados[1:]:\r\n",
        "  print(linha)"
      ],
      "execution_count": null,
      "outputs": []
    },
    {
      "cell_type": "markdown",
      "metadata": {
        "id": "IYnwJdAv72BF"
      },
      "source": [
        "## Manipulando arquivos JSON(Java Script Objext Notation)"
      ]
    },
    {
      "cell_type": "code",
      "metadata": {
        "id": "higN3-my8Mbx"
      },
      "source": [
        "#Criando um dicionario \r\n",
        "\r\n",
        "dict = {'nome' : 'Guido van Rossum',\r\n",
        "      'linguagem': 'Python',\r\n",
        "      'similar' : ['c','Modula-3', 'lisp'],\r\n",
        "      'users': 1000000}"
      ],
      "execution_count": null,
      "outputs": []
    },
    {
      "cell_type": "code",
      "metadata": {
        "id": "ZRLTf26M9dmw"
      },
      "source": [
        "for k,v in dict.items():\r\n",
        "  print(k,v)"
      ],
      "execution_count": null,
      "outputs": []
    },
    {
      "cell_type": "code",
      "metadata": {
        "id": "E9wkftuK9-By"
      },
      "source": [
        "#Importando o modulo JSON\r\n",
        "import json"
      ],
      "execution_count": null,
      "outputs": []
    },
    {
      "cell_type": "code",
      "metadata": {
        "id": "6F2AtelX-IBq"
      },
      "source": [
        "# Convertendo o dicionario para um objeto json\r\n",
        "json.dumps(dict)"
      ],
      "execution_count": null,
      "outputs": []
    },
    {
      "cell_type": "code",
      "metadata": {
        "id": "YIX8azJB-bsg"
      },
      "source": [
        "#Criando um arquivo json\r\n",
        "with open('/content/dados.json', 'w') as arquivo:\r\n",
        "  arquivo.write(json.dumps(dict))"
      ],
      "execution_count": null,
      "outputs": []
    },
    {
      "cell_type": "code",
      "metadata": {
        "id": "evTkiqRF_Aqv"
      },
      "source": [
        "#Leitura de arquivo Json\r\n",
        "with open('/content/dados.json', 'r') as arquivo:\r\n",
        "  texto = arquivo.read()\r\n",
        "  data = json.loads(texto)"
      ],
      "execution_count": null,
      "outputs": []
    },
    {
      "cell_type": "code",
      "metadata": {
        "id": "-mr8L99G_51j"
      },
      "source": [
        "print(data)"
      ],
      "execution_count": null,
      "outputs": []
    },
    {
      "cell_type": "code",
      "metadata": {
        "id": "MHiXXOb8ANh5"
      },
      "source": [
        "print(data['nome'])"
      ],
      "execution_count": null,
      "outputs": []
    },
    {
      "cell_type": "code",
      "metadata": {
        "id": "TPH-Wj99AngA"
      },
      "source": [
        "#Imprimindo um arquivo json copiado da internet \r\n",
        "\r\n",
        "from urllib.request import urlopen\r\n",
        "\r\n",
        "response = urlopen(\"http://vimeo.com/api/v2/video/57733101.json\").read().decode(\"utf8\")\r\n",
        "data = json.loads(response)[0]"
      ],
      "execution_count": null,
      "outputs": []
    },
    {
      "cell_type": "code",
      "metadata": {
        "id": "brkXBPWtBaRf"
      },
      "source": [
        "print('Título: ', data['title'])\r\n",
        "print('URL: ', data['url'])\r\n",
        "print('Duração: ', data['duration'])\r\n",
        "print('Numero de Visualizações: ', data['stats_number_of_plays'])"
      ],
      "execution_count": null,
      "outputs": []
    },
    {
      "cell_type": "code",
      "metadata": {
        "id": "Fv9rJekNBqkS"
      },
      "source": [
        "#Copiando o conteudo de um arquivo para outro \r\n",
        "import os\r\n",
        "arquivo_fonte = '/content/dados.json'\r\n",
        "arquivo_destino = '/content/json_data.txt'"
      ],
      "execution_count": null,
      "outputs": []
    },
    {
      "cell_type": "code",
      "metadata": {
        "id": "qkyz0ZOAInqt"
      },
      "source": [
        "# Método 1 \r\n",
        "with open(arquivo_fonte, 'r') as infile:\r\n",
        "  text = infile.read()\r\n",
        "  with open(arquivo_destino, 'w') as outfile:\r\n",
        "    outfile.write(text)\r\n",
        "    \r\n",
        "\r\n"
      ],
      "execution_count": null,
      "outputs": []
    },
    {
      "cell_type": "code",
      "metadata": {
        "id": "SvrsWHShJUcG"
      },
      "source": [
        "#Método 2 \r\n",
        "open(arquivo_destino,'w').write(open(arquivo_fonte, 'r').read())"
      ],
      "execution_count": null,
      "outputs": []
    },
    {
      "cell_type": "code",
      "metadata": {
        "id": "4k3dS7C0LGDg"
      },
      "source": [
        "#Literatura de arquivos Json\r\n",
        "with open('/content/json_data.txt' ,'r') as arquivo:\r\n",
        "  texto = arquivo.read()\r\n",
        "  data = json.loads(texto)"
      ],
      "execution_count": null,
      "outputs": []
    },
    {
      "cell_type": "code",
      "metadata": {
        "id": "aEq5InZsMRJQ"
      },
      "source": [
        "print(data)"
      ],
      "execution_count": null,
      "outputs": []
    },
    {
      "cell_type": "code",
      "metadata": {
        "id": "bDX60ABfMS1H"
      },
      "source": [
        ""
      ],
      "execution_count": null,
      "outputs": []
    }
  ]
}