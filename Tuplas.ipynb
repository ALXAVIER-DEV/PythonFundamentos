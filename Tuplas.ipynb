{
  "nbformat": 4,
  "nbformat_minor": 0,
  "metadata": {
    "colab": {
      "name": "Tuplas.ipynb",
      "provenance": [],
      "private_outputs": true,
      "authorship_tag": "ABX9TyMA0V77PxaIbS1qqAgRBciq",
      "include_colab_link": true
    },
    "kernelspec": {
      "name": "python3",
      "display_name": "Python 3"
    }
  },
  "cells": [
    {
      "cell_type": "markdown",
      "metadata": {
        "id": "view-in-github",
        "colab_type": "text"
      },
      "source": [
        "<a href=\"https://colab.research.google.com/github/ALXAVIER-DEV/PythonFundamentos/blob/master/Tuplas.ipynb\" target=\"_parent\"><img src=\"https://colab.research.google.com/assets/colab-badge.svg\" alt=\"Open In Colab\"/></a>"
      ]
    },
    {
      "cell_type": "markdown",
      "metadata": {
        "id": "BWWHrfy_3mS7",
        "colab_type": "text"
      },
      "source": [
        "##Tuplas"
      ]
    },
    {
      "cell_type": "code",
      "metadata": {
        "id": "EA4gYKV63bIw",
        "colab_type": "code",
        "colab": {}
      },
      "source": [
        "#Criando uma Tupla\n",
        "tupla1 = (\"Geografia\", 23,\"Elefantes\")"
      ],
      "execution_count": null,
      "outputs": []
    },
    {
      "cell_type": "code",
      "metadata": {
        "id": "29QbAhIw328l",
        "colab_type": "code",
        "colab": {}
      },
      "source": [
        "tupla1"
      ],
      "execution_count": null,
      "outputs": []
    },
    {
      "cell_type": "code",
      "metadata": {
        "id": "G0Dud-lR36Vf",
        "colab_type": "code",
        "colab": {}
      },
      "source": [
        "#Tuplas nao suportam append()\n",
        "tupla1.append(\"Chocalate\")"
      ],
      "execution_count": null,
      "outputs": []
    },
    {
      "cell_type": "code",
      "metadata": {
        "id": "d6OOKrCP4HJY",
        "colab_type": "code",
        "colab": {}
      },
      "source": [
        "#Tuplas suportam delete de um só item \n",
        "del tupla1[\"Geogradia\"]"
      ],
      "execution_count": null,
      "outputs": []
    },
    {
      "cell_type": "code",
      "metadata": {
        "id": "_yLW5Vfx4XEw",
        "colab_type": "code",
        "colab": {}
      },
      "source": [
        "tupla1"
      ],
      "execution_count": null,
      "outputs": []
    },
    {
      "cell_type": "code",
      "metadata": {
        "id": "VrbXGJSZ4Zy3",
        "colab_type": "code",
        "colab": {}
      },
      "source": [
        "tupla1[0]"
      ],
      "execution_count": null,
      "outputs": []
    },
    {
      "cell_type": "code",
      "metadata": {
        "id": "cQ5nXB2E4dLm",
        "colab_type": "code",
        "colab": {}
      },
      "source": [
        "tupla1[1]"
      ],
      "execution_count": null,
      "outputs": []
    },
    {
      "cell_type": "code",
      "metadata": {
        "id": "m3CpMeqQ4fLI",
        "colab_type": "code",
        "colab": {}
      },
      "source": [
        "len(tupla1)"
      ],
      "execution_count": null,
      "outputs": []
    },
    {
      "cell_type": "code",
      "metadata": {
        "id": "CirpEeKV4kFP",
        "colab_type": "code",
        "colab": {}
      },
      "source": [
        "tupla1.index('Elefantes')"
      ],
      "execution_count": null,
      "outputs": []
    },
    {
      "cell_type": "code",
      "metadata": {
        "id": "WY2_aWcg4uVw",
        "colab_type": "code",
        "colab": {}
      },
      "source": [
        ""
      ],
      "execution_count": null,
      "outputs": []
    }
  ]
}